{
 "cells": [
  {
   "cell_type": "markdown",
   "metadata": {},
   "source": [
    "# NASA Mars News\n",
    "\n",
    "#### Scrape the Mars News Site and collect the latest News Title and Paragraph Text. Save these items to variables so that you can use them later."
   ]
  },
  {
   "cell_type": "code",
   "execution_count": 1,
   "metadata": {},
   "outputs": [],
   "source": [
    "#import dependencies for set up\n",
    "from bs4 import BeautifulSoup as bs\n",
    "from splinter import Browser\n",
    "from webdriver_manager.chrome import ChromeDriverManager\n",
    "import requests\n",
    "import os\n",
    "import pymongo\n",
    "import pandas as pd"
   ]
  },
  {
   "cell_type": "code",
   "execution_count": 2,
   "metadata": {},
   "outputs": [
    {
     "name": "stderr",
     "output_type": "stream",
     "text": [
      "[WDM] - ====== WebDriver manager ======\n",
      "[WDM] - Current google-chrome version is 89.0.4389\n",
      "[WDM] - Get LATEST driver version for 89.0.4389\n"
     ]
    },
    {
     "name": "stdout",
     "output_type": "stream",
     "text": [
      "\n",
      "\n"
     ]
    },
    {
     "name": "stderr",
     "output_type": "stream",
     "text": [
      "[WDM] - Get LATEST driver version for 89.0.4389\n",
      "[WDM] - Trying to download new driver from https://chromedriver.storage.googleapis.com/89.0.4389.23/chromedriver_mac64.zip\n",
      "[WDM] - Driver has been saved in cache [/Users/corwingalleries/.wdm/drivers/chromedriver/mac64/89.0.4389.23]\n"
     ]
    }
   ],
   "source": [
    "#Set up splinter path and browser\n",
    "executable_path = {'executable_path': ChromeDriverManager().install()}\n",
    "browser = Browser('chrome', **executable_path, headless = False)"
   ]
  },
  {
   "cell_type": "code",
   "execution_count": 3,
   "metadata": {},
   "outputs": [],
   "source": [
    "#indicate URL for scraping\n",
    "url = \"https://redplanetscience.com\"\n",
    "browser.visit(url)"
   ]
  },
  {
   "cell_type": "code",
   "execution_count": 4,
   "metadata": {},
   "outputs": [
    {
     "name": "stdout",
     "output_type": "stream",
     "text": [
      "----------------------------------------------------------------------\n",
      "Title: NASA's Perseverance Rover Is Midway to Mars \n",
      "Content: Sometimes half measures can be a good thing – especially on a journey this long. The agency's latest rover only has about 146 million miles left to reach its destination.\n",
      "----------------------------------------------------------------------\n",
      "Title: Nine Finalists Chosen in NASA's Mars 2020 Rover Naming Contest\n",
      "Content: Nine finalists have been chosen in the essay contest for K-12 students across U.S. to name NASA's next Mars rover. Now you can help by voting for your favorite. \n",
      "----------------------------------------------------------------------\n",
      "Title: NASA's Mars 2020 Will Hunt for Microscopic Fossils\n",
      "Content: A new paper identifies a ring of minerals at the rover's landing site that are ideal for fossilizing microbial life.\n",
      "----------------------------------------------------------------------\n",
      "Title: NASA Updates Mars 2020 Mission Environmental Review\n",
      "Content: NASA and the Department of Energy have completed a more detailed risk analysis for the Mars 2020 rover launch from Florida.\n",
      "----------------------------------------------------------------------\n",
      "Title: NASA's Perseverance Rover Will Look at Mars Through These 'Eyes'\n",
      "Content: A pair of zoomable cameras will help scientists and rover drivers with high-resolution color images.\n",
      "----------------------------------------------------------------------\n",
      "Title: NASA's Mars 2020 Rover Tests Descent-Stage Separation\n",
      "Content: A crane lifts the rocket-powered descent stage away from NASA's Mars 2020 rover after technicians tested the pyrotechnic charges that separate the two spacecraft.\n",
      "----------------------------------------------------------------------\n",
      "Title: NASA's New Mars Rover Is Ready for Space Lasers\n",
      "Content: Perseverance is one of a few Mars spacecraft carrying laser retroreflectors. The devices could provide new science and safer Mars landings in the future.\n",
      "----------------------------------------------------------------------\n",
      "Title: NASA's Mars Reconnaissance Orbiter Undergoes Memory Update\n",
      "Content: Other orbiters will continue relaying data from Mars surface missions for a two-week period.\n",
      "----------------------------------------------------------------------\n",
      "Title: NASA's InSight Flexes Its Arm While Its 'Mole' Hits Pause\n",
      "Content: Now that the lander's robotic arm has helped the mole get underground, it will resume science activities that have been on hold.\n",
      "----------------------------------------------------------------------\n",
      "Title: NASA's MAVEN Observes Martian Night Sky Pulsing in Ultraviolet Light\n",
      "Content: Vast areas of the Martian night sky pulse in ultraviolet light, according to images from NASA’s MAVEN spacecraft. The results are being used to illuminate complex circulation patterns in the Martian atmosphere.\n",
      "----------------------------------------------------------------------\n",
      "Title: NASA's Perseverance Mars Rover Gets Its Wheels and Air Brakes\n",
      "Content: After the rover was shipped from JPL to Kennedy Space Center, the team is getting closer to finalizing the spacecraft for launch later this summer.\n",
      "----------------------------------------------------------------------\n",
      "Title: Q&A with the Student Who Named Ingenuity, NASA's Mars Helicopter\n",
      "Content: As a longtime fan of space exploration, Vaneeza Rupani appreciates the creativity and collaboration involved with trying to fly on another planet.\n",
      "----------------------------------------------------------------------\n",
      "Title: Naming a NASA Mars Rover Can Change Your Life\n",
      "Content: Want to name the robotic scientist NASA is sending to Mars in 2020? The student who named Curiosity — the rover currently exploring Mars — will tell you this is an opportunity worth taking.\n",
      "----------------------------------------------------------------------\n",
      "Title: Join NASA for the Launch of the Mars 2020 Perseverance Rover\n",
      "Content: No matter where you live, choose from a menu of activities to join NASA as we \"Countdown to Mars\" and launch the Perseverance rover to the Red Planet.\n",
      "----------------------------------------------------------------------\n",
      "Title: New Selfie Shows Curiosity, the Mars Chemist\n",
      "Content: The NASA rover performed a special chemistry experiment at the location captured in its newest self-portrait.\n"
     ]
    }
   ],
   "source": [
    "#create a for loop for every page to search for News Title and Paragraph Text\n",
    "for x in range(1):\n",
    "    \n",
    "    #HTML object\n",
    "    html = browser.html\n",
    "    \n",
    "    #Parse HTML with Beautiful Soup\n",
    "    soup = bs(html, \"html.parser\")\n",
    "    \n",
    "    #Retrieve all elements that contain that information\n",
    "    articles = soup.find_all(\"div\", class_ = \"list_text\")\n",
    "    \n",
    "    #Iterate through each web page\n",
    "    for article in articles:\n",
    "        \n",
    "        #Use Beautiful Soup's find() method to navigate and retrieve attributes\n",
    "        news_title = article.find(\"div\", class_ = \"content_title\").text\n",
    "        paragraph_text = article.find(\"div\", class_ = \"article_teaser_body\").text\n",
    "        print(\"----------------------------------------------------------------------\")\n",
    "        print(f\"Title: {news_title}\")\n",
    "        \n",
    "        print(f\"Content: {paragraph_text}\")\n",
    "        "
   ]
  },
  {
   "cell_type": "markdown",
   "metadata": {},
   "source": [
    "# JPL Mars Space Images - Featured Image\n",
    "\n",
    "#### Splinter to navigate the site and find the image url for the current Featured Mars Image and assign the url string to a variable"
   ]
  },
  {
   "cell_type": "code",
   "execution_count": 5,
   "metadata": {},
   "outputs": [],
   "source": [
    "#Create URL and browser\n",
    "mars_image_url = \"https://spaceimages-mars.com\"\n",
    "browser.visit(mars_image_url)"
   ]
  },
  {
   "cell_type": "code",
   "execution_count": 6,
   "metadata": {},
   "outputs": [],
   "source": [
    "#HTML object\n",
    "mars_image_html = browser.html\n",
    "\n",
    "#Parse HTML with Beautiful Soup\n",
    "mars_image_soup = bs(mars_image_html, \"html.parser\")\n",
    "\n",
    "#Retrieve information for image link\n",
    "featured_mars_image = mars_image_soup.find(\"a\", class_ = \"showimg fancybox-thumbs\")[\"href\"]"
   ]
  },
  {
   "cell_type": "code",
   "execution_count": 9,
   "metadata": {},
   "outputs": [
    {
     "data": {
      "text/plain": [
       "'https://spaceimages-mars.com/image/featured/mars3.jpg'"
      ]
     },
     "execution_count": 9,
     "metadata": {},
     "output_type": "execute_result"
    }
   ],
   "source": [
    "#Declare url under featured_image_url variable and save \n",
    "featured_image_url = f\"https://spaceimages-mars.com/{featured_mars_image}\"\n",
    "featured_image_url"
   ]
  },
  {
   "cell_type": "code",
   "execution_count": null,
   "metadata": {},
   "outputs": [],
   "source": []
  },
  {
   "cell_type": "code",
   "execution_count": null,
   "metadata": {},
   "outputs": [],
   "source": [
    "#Close remote browser\n",
    "browser.quit()"
   ]
  }
 ],
 "metadata": {
  "kernelspec": {
   "display_name": "Python 3",
   "language": "python",
   "name": "python3"
  },
  "language_info": {
   "codemirror_mode": {
    "name": "ipython",
    "version": 3
   },
   "file_extension": ".py",
   "mimetype": "text/x-python",
   "name": "python",
   "nbconvert_exporter": "python",
   "pygments_lexer": "ipython3",
   "version": "3.6.10"
  }
 },
 "nbformat": 4,
 "nbformat_minor": 4
}
