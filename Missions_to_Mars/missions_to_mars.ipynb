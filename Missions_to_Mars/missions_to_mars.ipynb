{
 "cells": [
  {
   "cell_type": "markdown",
   "metadata": {},
   "source": [
    "# NASA Mars News\n",
    "\n",
    "#### Scrape the Mars News Site and collect the latest News Title and Paragraph Text. Save these items to variables so that you can use them later."
   ]
  },
  {
   "cell_type": "code",
   "execution_count": 1,
   "metadata": {},
   "outputs": [],
   "source": [
    "#import dependencies for set up\n",
    "from bs4 import BeautifulSoup as bs\n",
    "from splinter import Browser\n",
    "from webdriver_manager.chrome import ChromeDriverManager\n",
    "import requests\n",
    "import os\n",
    "import pymongo\n",
    "import pandas as pd"
   ]
  },
  {
   "cell_type": "code",
   "execution_count": 2,
   "metadata": {},
   "outputs": [
    {
     "name": "stderr",
     "output_type": "stream",
     "text": [
      "[WDM] - ====== WebDriver manager ======\n",
      "[WDM] - Current google-chrome version is 89.0.4389\n",
      "[WDM] - Get LATEST driver version for 89.0.4389\n"
     ]
    },
    {
     "name": "stdout",
     "output_type": "stream",
     "text": [
      "\n",
      "\n"
     ]
    },
    {
     "name": "stderr",
     "output_type": "stream",
     "text": [
      "[WDM] - Driver [/Users/corwingalleries/.wdm/drivers/chromedriver/mac64/89.0.4389.23/chromedriver] found in cache\n"
     ]
    }
   ],
   "source": [
    "#Set up splinter path and browser\n",
    "executable_path = {'executable_path': ChromeDriverManager().install()}\n",
    "browser = Browser('chrome', **executable_path, headless = False)"
   ]
  },
  {
   "cell_type": "code",
   "execution_count": 3,
   "metadata": {},
   "outputs": [],
   "source": [
    "#indicate URL for scraping\n",
    "url = \"https://redplanetscience.com\"\n",
    "browser.visit(url)"
   ]
  },
  {
   "cell_type": "code",
   "execution_count": 7,
   "metadata": {},
   "outputs": [
    {
     "name": "stdout",
     "output_type": "stream",
     "text": [
      "----------------------------------------------------------------------\n",
      "Title: Nine Finalists Chosen in NASA's Mars 2020 Rover Naming Contest\n",
      "Content: Nine finalists have been chosen in the essay contest for K-12 students across U.S. to name NASA's next Mars rover. Now you can help by voting for your favorite. \n",
      "----------------------------------------------------------------------\n",
      "Title: With Mars Methane Mystery Unsolved, Curiosity Serves Scientists a New One: Oxygen\n",
      "Content: For the first time in the history of space exploration, scientists have measured the seasonal changes in the gases that fill the air directly above the surface of Gale Crater on Mars. \n",
      "----------------------------------------------------------------------\n",
      "Title: Meet the People Behind NASA's Perseverance Rover\n",
      "Content: These are the scientists and engineers who built NASA's next Mars rover and who will guide it to a safe landing in Jezero Crater. \n",
      "----------------------------------------------------------------------\n",
      "Title: NASA's Push to Save the Mars InSight Lander's Heat Probe\n",
      "Content: The scoop on the end of the spacecraft's robotic arm will be used to 'pin' the mole against the wall of its hole.\n",
      "----------------------------------------------------------------------\n",
      "Title: NASA Invites Students to Name Mars 2020 Rover\n",
      "Content: Through Nov. 1, K-12 students in the U.S. are encouraged to enter an essay contest to name NASA's next Mars rover.\n",
      "----------------------------------------------------------------------\n",
      "Title: A New Video Captures the Science of NASA's Perseverance Mars Rover\n",
      "Content: With a targeted launch date of July 30, the next robotic scientist NASA is sending to the to the Red Planet has big ambitions.\n",
      "----------------------------------------------------------------------\n",
      "Title: Two of a Space Kind: Apollo 12 and Mars 2020\n",
      "Content: Apollo 12 and the upcoming Mars 2020 mission may be separated by half a century, but they share several goals unique in the annals of space exploration.\n",
      "----------------------------------------------------------------------\n",
      "Title: NASA's Curiosity Mars Rover Takes a New Selfie Before Record Climb\n",
      "Content: Along with capturing an image before its steepest ascent ever, the robotic explorer filmed its \"selfie stick,\" or robotic arm, in action.\n",
      "----------------------------------------------------------------------\n",
      "Title: NASA Mars Mission Connects With Bosnian and Herzegovinian Town\n",
      "Content: A letter from NASA was presented to the mayor of Jezero, Bosnia-Herzegovina, honoring the connection between the town and Jezero Crater, the Mars 2020 rover landing site.\n",
      "----------------------------------------------------------------------\n",
      "Title: NASA's Mars 2020 Comes Full Circle\n",
      "Content: Aiming to pinpoint the Martian vehicle's center of gravity, engineers took NASA's 2,300-pound Mars 2020 rover for a spin in the clean room at JPL. \n",
      "----------------------------------------------------------------------\n",
      "Title: AI Is Helping Scientists Discover Fresh Craters on Mars\n",
      "Content: It's the first time machine learning has been used to find previously unknown craters on the Red Planet.\n",
      "----------------------------------------------------------------------\n",
      "Title: A Year of Surprising Science From NASA's InSight Mars Mission\n",
      "Content: A batch of new papers summarizes the lander's findings above and below the surface of the Red Planet.\n",
      "----------------------------------------------------------------------\n",
      "Title: NASA Updates Mars 2020 Mission Environmental Review\n",
      "Content: NASA and the Department of Energy have completed a more detailed risk analysis for the Mars 2020 rover launch from Florida.\n",
      "----------------------------------------------------------------------\n",
      "Title: NASA's Perseverance Rover 100 Days Out\n",
      "Content: Mark your calendars: The agency's latest rover has only about 8,640,000 seconds to go before it touches down on the Red Planet, becoming history's next Mars car.\n",
      "----------------------------------------------------------------------\n",
      "Title: NASA's Perseverance Mars Rover Gets Balanced\n",
      "Content: The mission team performed a crucial weight-balancing test on the rover in preparation for this summer's history-making launch to the Red Planet.\n"
     ]
    }
   ],
   "source": [
    "#create a for loop for every page to search for News Title and Paragraph Text\n",
    "for x in range(1):\n",
    "    \n",
    "    #HTML object\n",
    "    html = browser.html\n",
    "    \n",
    "    #Parse HTML with Beautiful Soup\n",
    "    soup = bs(html, \"html.parser\")\n",
    "    \n",
    "    #Retrieve all elements that contain that information\n",
    "    articles = soup.find_all(\"div\", class_ = \"list_text\")\n",
    "    \n",
    "    #Iterate through each web page\n",
    "    for article in articles:\n",
    "        \n",
    "        #Use Beautiful Soup's find() method to navigate and retrieve attributes\n",
    "        news_title = article.find(\"div\", class_ = \"content_title\").text\n",
    "        paragraph_text = article.find(\"div\", class_ = \"article_teaser_body\").text\n",
    "        print(\"----------------------------------------------------------------------\")\n",
    "        print(f\"Title: {news_title}\")\n",
    "        \n",
    "        print(f\"Content: {paragraph_text}\")\n",
    "        "
   ]
  },
  {
   "cell_type": "code",
   "execution_count": null,
   "metadata": {},
   "outputs": [],
   "source": []
  }
 ],
 "metadata": {
  "kernelspec": {
   "display_name": "Python 3",
   "language": "python",
   "name": "python3"
  },
  "language_info": {
   "codemirror_mode": {
    "name": "ipython",
    "version": 3
   },
   "file_extension": ".py",
   "mimetype": "text/x-python",
   "name": "python",
   "nbconvert_exporter": "python",
   "pygments_lexer": "ipython3",
   "version": "3.6.10"
  }
 },
 "nbformat": 4,
 "nbformat_minor": 4
}
