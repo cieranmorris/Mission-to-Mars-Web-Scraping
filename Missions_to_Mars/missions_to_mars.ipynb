{
 "cells": [
  {
   "cell_type": "markdown",
   "metadata": {},
   "source": [
    "# NASA Mars News\n",
    "\n",
    "#### Scrape the Mars News Site and collect the latest News Title and Paragraph Text. Save these items to variables so that you can use them later."
   ]
  },
  {
   "cell_type": "code",
   "execution_count": 1,
   "metadata": {},
   "outputs": [],
   "source": [
    "#import dependencies for set up\n",
    "from bs4 import BeautifulSoup as bs\n",
    "from splinter import Browser\n",
    "from webdriver_manager.chrome import ChromeDriverManager\n",
    "import requests\n",
    "import os\n",
    "import pymongo\n",
    "import pandas as pd"
   ]
  },
  {
   "cell_type": "code",
   "execution_count": 2,
   "metadata": {},
   "outputs": [
    {
     "name": "stderr",
     "output_type": "stream",
     "text": [
      "[WDM] - ====== WebDriver manager ======\n",
      "[WDM] - Current google-chrome version is 89.0.4389\n",
      "[WDM] - Get LATEST driver version for 89.0.4389\n"
     ]
    },
    {
     "name": "stdout",
     "output_type": "stream",
     "text": [
      "\n",
      "\n"
     ]
    },
    {
     "name": "stderr",
     "output_type": "stream",
     "text": [
      "[WDM] - Driver [/Users/corwingalleries/.wdm/drivers/chromedriver/mac64/89.0.4389.23/chromedriver] found in cache\n"
     ]
    }
   ],
   "source": [
    "#Set up splinter path and browser\n",
    "executable_path = {'executable_path': ChromeDriverManager().install()}\n",
    "browser = Browser('chrome', **executable_path, headless = False)"
   ]
  },
  {
   "cell_type": "code",
   "execution_count": 3,
   "metadata": {},
   "outputs": [],
   "source": [
    "#indicate URL for scraping\n",
    "url = \"https://redplanetscience.com\"\n",
    "browser.visit(url)"
   ]
  },
  {
   "cell_type": "code",
   "execution_count": 8,
   "metadata": {},
   "outputs": [
    {
     "data": {
      "text/plain": [
       "\"NASA's Mars 2020 Rover Completes Its First Drive\""
      ]
     },
     "execution_count": 8,
     "metadata": {},
     "output_type": "execute_result"
    }
   ],
   "source": [
    "#Find the latest News Article and it's associated Paragraph Text\n",
    "    \n",
    "#HTML object\n",
    "html = browser.html\n",
    "    \n",
    "#Parse HTML with Beautiful Soup\n",
    "soup = bs(html, \"html.parser\")\n",
    "\n",
    "#Use find element to locate latest title\n",
    "article_title = browser.find_by_css(\".content_title\")[0].text\n",
    "article_title\n"
   ]
  },
  {
   "cell_type": "markdown",
   "metadata": {},
   "source": [
    "# JPL Mars Space Images - Featured Image\n",
    "\n",
    "#### Splinter to navigate the site and find the image url for the current Featured Mars Image and assign the url string to a variable"
   ]
  },
  {
   "cell_type": "code",
   "execution_count": null,
   "metadata": {},
   "outputs": [],
   "source": [
    "#Create URL and browser\n",
    "mars_image_url = \"https://spaceimages-mars.com\"\n",
    "browser.visit(mars_image_url)"
   ]
  },
  {
   "cell_type": "code",
   "execution_count": null,
   "metadata": {},
   "outputs": [],
   "source": [
    "#HTML object\n",
    "mars_image_html = browser.html\n",
    "\n",
    "#Parse HTML with Beautiful Soup\n",
    "mars_image_soup = bs(mars_image_html, \"html.parser\")\n",
    "\n",
    "#Retrieve information for image link\n",
    "featured_mars_image = mars_image_soup.find(\"a\", class_ = \"showimg fancybox-thumbs\")[\"href\"]"
   ]
  },
  {
   "cell_type": "code",
   "execution_count": null,
   "metadata": {},
   "outputs": [],
   "source": [
    "#Declare url under featured_image_url variable and save \n",
    "featured_image_url = f\"https://spaceimages-mars.com/{featured_mars_image}\"\n",
    "featured_image_url"
   ]
  },
  {
   "cell_type": "markdown",
   "metadata": {},
   "source": [
    " # Mars Facts\n",
    " \n",
    " #### use Pandas to scrape the table containing facts about the planet including Diameter, Mass, etc."
   ]
  },
  {
   "cell_type": "code",
   "execution_count": null,
   "metadata": {},
   "outputs": [],
   "source": [
    "#import URL for Mars Facts webpage\n",
    "mars_facts_url = \"https://galaxyfacts-mars.com\""
   ]
  },
  {
   "cell_type": "code",
   "execution_count": null,
   "metadata": {},
   "outputs": [],
   "source": [
    "#Use 'read_html' function to read tables into Jupyter Notebook\n",
    "tables = pd.read_html(mars_facts_url)\n",
    "tables"
   ]
  },
  {
   "cell_type": "code",
   "execution_count": null,
   "metadata": {},
   "outputs": [],
   "source": [
    "type(tables)"
   ]
  },
  {
   "cell_type": "code",
   "execution_count": null,
   "metadata": {},
   "outputs": [],
   "source": [
    "#Select dataframe using indexing on the table\n",
    "mars_facts_df = tables[0]\n",
    "mars_facts_df"
   ]
  },
  {
   "cell_type": "markdown",
   "metadata": {},
   "source": [
    "#### Use Pandas to convert the data to a HTML table string."
   ]
  },
  {
   "cell_type": "code",
   "execution_count": null,
   "metadata": {},
   "outputs": [],
   "source": [
    "#Drop first row in DataFrame\n",
    "header_reset = mars_facts_df.iloc[0]\n",
    "mars_facts_df = mars_facts_df[1:]"
   ]
  },
  {
   "cell_type": "code",
   "execution_count": null,
   "metadata": {},
   "outputs": [],
   "source": [
    "#Pass new header into DataFrame to clean it\n",
    "mars_facts_df.columns = header_reset\n",
    "mars_facts_df"
   ]
  },
  {
   "cell_type": "code",
   "execution_count": null,
   "metadata": {},
   "outputs": [],
   "source": [
    "mars_facts_df.to_html('mars_facts_table.html', index = False, header = True)"
   ]
  },
  {
   "cell_type": "code",
   "execution_count": null,
   "metadata": {},
   "outputs": [],
   "source": [
    "!open mars_facts_table.html"
   ]
  },
  {
   "cell_type": "markdown",
   "metadata": {},
   "source": [
    "# Mars Hemispheres\n",
    "\n",
    "#### obtain high resolution images for each of Mars's hemispheres."
   ]
  },
  {
   "cell_type": "code",
   "execution_count": null,
   "metadata": {},
   "outputs": [],
   "source": [
    "mars_hemispheres_url = \"https://marshemispheres.com\"\n",
    "browser.visit(mars_hemispheres_url)"
   ]
  },
  {
   "cell_type": "code",
   "execution_count": null,
   "metadata": {},
   "outputs": [],
   "source": [
    "#HTML Object\n",
    "hemispheres_html = browser.html\n",
    "\n",
    "#Parse with Beautiful Soup\n",
    "hemispheres_soup = bs(hemispheres_html, \"html.parser\")"
   ]
  },
  {
   "cell_type": "markdown",
   "metadata": {},
   "source": [
    "#### Save both the image url string for the full resolution hemisphere image, and the Hemisphere title containing the hemisphere name. Use a Python dictionary to store the data using the keys img_url and title."
   ]
  },
  {
   "cell_type": "code",
   "execution_count": null,
   "metadata": {},
   "outputs": [],
   "source": [
    "#look for links in order to access full resolution hemisphere images\n",
    "hemispheres_links = hemispheres_soup.find_all(\"div\", class_ = \"item\")\n",
    "hemispheres_links"
   ]
  },
  {
   "cell_type": "code",
   "execution_count": null,
   "metadata": {},
   "outputs": [],
   "source": [
    "#find anchor links and place into a links list for future for loop\n",
    "hemispheres_image_links = []"
   ]
  },
  {
   "cell_type": "code",
   "execution_count": null,
   "metadata": {},
   "outputs": [],
   "source": [
    "#For loop to search for Hemisphere title and full resolution image\n",
    "for link in hemispheres_image_links:\n",
    "    image_link = link.find(\"a\", class_ = \"itemLink product-item\")[\"href\"]   \n",
    "    \n",
    "    hemisphere_title = link.find(\"h3\").text\n",
    "    \n",
    "    #Browser visit\n",
    "    browser.visit(image_link + hemisphere_title)\n",
    "    \n",
    "    #HTML Object \n",
    "    hemispheres_links_html = browser.html\n",
    "    \n",
    "    #Parse using Beautiful Soup\n",
    "    hemispheres_links_soup = bs(hemispheres_links_html, \"html.parser\")\n",
    "    \n",
    "    #Search for image URLs\n",
    "    image_url = mars_hemispheres_url + hemispheres_links_soup.find(\"img\", class_ = \"wide-image\")[\"src\"]\n",
    "    \n",
    "    #Append into list via dictionaries\n",
    "    hemispheres_image_links.append({\"title\": hemisphere_title, \"img_url\": image_url})\n",
    "    print(f\"Title: {hemisphere_title}\")\n",
    "    print(f\"URL: {image_url}\")\n",
    "    \n",
    "\n",
    "    "
   ]
  },
  {
   "cell_type": "code",
   "execution_count": null,
   "metadata": {},
   "outputs": [],
   "source": [
    "hemispheres_image_links"
   ]
  },
  {
   "cell_type": "code",
   "execution_count": null,
   "metadata": {},
   "outputs": [],
   "source": [
    "#Close remote browser\n",
    "browser.quit()"
   ]
  },
  {
   "cell_type": "code",
   "execution_count": null,
   "metadata": {},
   "outputs": [],
   "source": []
  }
 ],
 "metadata": {
  "kernelspec": {
   "display_name": "Python 3",
   "language": "python",
   "name": "python3"
  },
  "language_info": {
   "codemirror_mode": {
    "name": "ipython",
    "version": 3
   },
   "file_extension": ".py",
   "mimetype": "text/x-python",
   "name": "python",
   "nbconvert_exporter": "python",
   "pygments_lexer": "ipython3",
   "version": "3.6.10"
  }
 },
 "nbformat": 4,
 "nbformat_minor": 4
}
