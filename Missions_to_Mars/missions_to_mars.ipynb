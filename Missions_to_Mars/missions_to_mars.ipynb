{
 "cells": [
  {
   "cell_type": "markdown",
   "metadata": {},
   "source": [
    "# NASA Mars News\n",
    "\n",
    "#### Scrape the Mars News Site and collect the latest News Title and Paragraph Text. Save these items to variables so that you can use them later."
   ]
  },
  {
   "cell_type": "code",
   "execution_count": 1,
   "metadata": {},
   "outputs": [],
   "source": [
    "#import dependencies for set up\n",
    "from bs4 import BeautifulSoup as bs\n",
    "from splinter import Browser\n",
    "from webdriver_manager.chrome import ChromeDriverManager\n",
    "import requests\n",
    "import os\n",
    "import pymongo\n",
    "import pandas as pd"
   ]
  },
  {
   "cell_type": "code",
   "execution_count": 2,
   "metadata": {},
   "outputs": [
    {
     "name": "stderr",
     "output_type": "stream",
     "text": [
      "[WDM] - ====== WebDriver manager ======\n",
      "[WDM] - Current google-chrome version is 89.0.4389\n",
      "[WDM] - Get LATEST driver version for 89.0.4389\n"
     ]
    },
    {
     "name": "stdout",
     "output_type": "stream",
     "text": [
      "\n",
      "\n"
     ]
    },
    {
     "name": "stderr",
     "output_type": "stream",
     "text": [
      "[WDM] - Driver [/Users/corwingalleries/.wdm/drivers/chromedriver/mac64/89.0.4389.23/chromedriver] found in cache\n"
     ]
    }
   ],
   "source": [
    "#Set up splinter path and browser\n",
    "executable_path = {'executable_path': ChromeDriverManager().install()}\n",
    "browser = Browser('chrome', **executable_path, headless = False)"
   ]
  },
  {
   "cell_type": "code",
   "execution_count": null,
   "metadata": {},
   "outputs": [],
   "source": [
    "#indicate URL for scraping\n",
    "url = \"https://redplanetscience.com\"\n",
    "browser.visit(url)"
   ]
  },
  {
   "cell_type": "code",
   "execution_count": null,
   "metadata": {},
   "outputs": [],
   "source": [
    "#create a for loop for every page to search for News Title and Paragraph Text\n",
    "for x in range(50):\n",
    "    \n",
    "    #HTML object\n",
    "    html = browser.html\n",
    "    \n",
    "    #Parse HTML with Beautiful Soup\n",
    "    soup = bs(html, \"html.parser\")\n",
    "    \n",
    "    #Retrieve all elements that contain that information\n",
    "    articles = soup.find_all(\"div\", class_ = \"list_text\")\n",
    "    \n",
    "    #Iterate through each web page\n",
    "    for article in articles:\n",
    "        \n",
    "        #Use Beautiful Soup's find() method to navigate and retrieve attributes\n",
    "        title = article.find(\"div\", class_ = \"content_title\").text()\n",
    "        paragraph = article.find(\"div\", class_ = \"article_teaser_body\").text()\n",
    "        print(\"----------------------------------------------------------------------\")\n",
    "        print(f\"Title: {news_title}\")\n",
    "        print(f\"Content: {paragraph_text}\")\n",
    "        "
   ]
  },
  {
   "cell_type": "code",
   "execution_count": null,
   "metadata": {},
   "outputs": [],
   "source": []
  }
 ],
 "metadata": {
  "kernelspec": {
   "display_name": "Python 3",
   "language": "python",
   "name": "python3"
  },
  "language_info": {
   "codemirror_mode": {
    "name": "ipython",
    "version": 3
   },
   "file_extension": ".py",
   "mimetype": "text/x-python",
   "name": "python",
   "nbconvert_exporter": "python",
   "pygments_lexer": "ipython3",
   "version": "3.6.10"
  }
 },
 "nbformat": 4,
 "nbformat_minor": 4
}
